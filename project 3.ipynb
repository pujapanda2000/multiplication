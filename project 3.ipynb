{
 "cells": [
  {
   "cell_type": "markdown",
   "id": "0c528300",
   "metadata": {},
   "source": [
    "# Multiplication table"
   ]
  },
  {
   "cell_type": "code",
   "execution_count": 2,
   "id": "14ed254e",
   "metadata": {},
   "outputs": [
    {
     "name": "stdout",
     "output_type": "stream",
     "text": [
      "Simple Tables\n",
      "Enter the number of your choice \n",
      " 25\n",
      "####################\n",
      "25 * 1 = 25\n",
      "25 * 2 = 50\n",
      "25 * 3 = 75\n",
      "25 * 4 = 100\n",
      "25 * 5 = 125\n",
      "25 * 6 = 150\n",
      "25 * 7 = 175\n",
      "25 * 8 = 200\n",
      "25 * 9 = 225\n",
      "25 * 10 = 250\n"
     ]
    }
   ],
   "source": [
    "print(\"Simple Tables\")\n",
    "num = int(input(\"Enter the number of your choice \\n \"))\n",
    "print(\"#\"*20)\n",
    "multiple=1\n",
    "while(multiple<=10):\n",
    "    print(num ,\"*\" ,multiple, \"=\" ,multiple*num)\n",
    "    multiple=multiple+1"
   ]
  },
  {
   "cell_type": "code",
   "execution_count": null,
   "id": "28bee3a9",
   "metadata": {},
   "outputs": [],
   "source": []
  }
 ],
 "metadata": {
  "kernelspec": {
   "display_name": "Python 3",
   "language": "python",
   "name": "python3"
  },
  "language_info": {
   "codemirror_mode": {
    "name": "ipython",
    "version": 3
   },
   "file_extension": ".py",
   "mimetype": "text/x-python",
   "name": "python",
   "nbconvert_exporter": "python",
   "pygments_lexer": "ipython3",
   "version": "3.8.8"
  }
 },
 "nbformat": 4,
 "nbformat_minor": 5
}
